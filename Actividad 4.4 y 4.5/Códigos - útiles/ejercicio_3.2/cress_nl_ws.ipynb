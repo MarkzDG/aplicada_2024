{
 "cells": [
  {
   "cell_type": "code",
   "execution_count": 5,
   "metadata": {},
   "outputs": [],
   "source": [
    "from selenium import webdriver\n",
    "from selenium.webdriver.common.by import By\n",
    "from selenium.webdriver.support.ui import WebDriverWait\n",
    "from selenium.webdriver.support import expected_conditions as EC\n",
    "import time\n",
    "import pandas as pd\n",
    "import numpy as np"
   ]
  },
  {
   "cell_type": "code",
   "execution_count": 3,
   "metadata": {},
   "outputs": [],
   "source": [
    "valores_prueba = [\n",
    "    {'T': 11.08, 'Fi0':-54 , 'Hs':0.5, 'Occ': 0.0007},\n",
    "    {'T': 11.08, 'Fi0':-54 , 'Hs':1.5, 'Occ': 0.375},\n",
    "]"
   ]
  },
  {
   "cell_type": "code",
   "execution_count": 12,
   "metadata": {},
   "outputs": [
    {
     "name": "stdout",
     "output_type": "stream",
     "text": [
      "Valor obtenido: 48101\n"
     ]
    }
   ],
   "source": [
    "driver = webdriver.Chrome()\n",
    "\n",
    "# Abrir la página web\n",
    "driver.get(\"http://www.cress.nl/Regel.aspx\")\n",
    "\n",
    "# Clickear en los enlaces para llegar al elemento deseado\n",
    "enlaces = [\"ctl00_regelsContentPlaceHolder_RulesTree1_tvRegelst45\",\n",
    "           \"ctl00_regelsContentPlaceHolder_RulesTree1_tvRegelst71\",\n",
    "           \"ctl00_regelsContentPlaceHolder_RulesTree1_tvRegelst90\",\n",
    "           \"ctl00_regelsContentPlaceHolder_RulesTree1_tvRegelst91\"]\n",
    "\n",
    "for enlace_id in enlaces:\n",
    "    enlace = WebDriverWait(driver, 10).until(EC.element_to_be_clickable((By.ID, enlace_id)))\n",
    "    enlace.click()\n",
    "\n",
    "# Modificar los valores de los campos de entrada\n",
    "valores = {\n",
    "    \"ctl00$regelsContentPlaceHolder$edt_1\": \"0.5\",\n",
    "    \"ctl00$regelsContentPlaceHolder$edt_2\": \"11\",\n",
    "    \"ctl00$regelsContentPlaceHolder$edt_3\": \"10\",\n",
    "    \"ctl00$regelsContentPlaceHolder$edt_5\": \"75\"\n",
    "}\n",
    "\n",
    "for nombre, valor in valores.items():\n",
    "    campo = WebDriverWait(driver, 10).until(EC.visibility_of_element_located((By.NAME, nombre)))\n",
    "    campo.clear()\n",
    "    campo.send_keys(valor)\n",
    "\n",
    "# Clickear en el botón \"Calculate\"\n",
    "boton_calculate = WebDriverWait(driver, 10).until(EC.element_to_be_clickable((By.ID, \"ctl00_regelsContentPlaceHolder_btnBereken\")))\n",
    "boton_calculate.click()\n",
    "\n",
    "# Pausa para permitir que la página se actualice\n",
    "time.sleep(2)\n",
    "\n",
    "# Obtener el valor del campo de texto\n",
    "valor_resultado = WebDriverWait(driver, 10).until(EC.visibility_of_element_located((By.ID, \"ctl00_regelsContentPlaceHolder_edt_12\"))).get_attribute(\"value\")\n",
    "print(\"Valor obtenido:\", valor_resultado)\n",
    "\n",
    "driver.quit()"
   ]
  },
  {
   "cell_type": "markdown",
   "metadata": {},
   "source": [
    "## CERC"
   ]
  },
  {
   "cell_type": "code",
   "execution_count": 20,
   "metadata": {},
   "outputs": [
    {
     "name": "stderr",
     "output_type": "stream",
     "text": [
      "C:\\Users\\Portables\\AppData\\Local\\Temp\\ipykernel_18140\\1791592744.py:53: FutureWarning: The behavior of DataFrame concatenation with empty or all-NA entries is deprecated. In a future version, this will no longer exclude empty or all-NA columns when determining the result dtypes. To retain the old behavior, exclude the relevant entries before the concat operation.\n",
      "  df_resultados = pd.concat([df_resultados, valores_cerc], ignore_index=True)\n"
     ]
    },
    {
     "name": "stdout",
     "output_type": "stream",
     "text": [
      "        T  Fi0   Hs        Occ Resultado\n",
      "0   11.08  -54  0.5   0.050840       -82\n",
      "1   11.08  -54  1.5  17.698400   -399354\n",
      "2   11.08  -54  2.5   7.249690   -559309\n",
      "3   11.08  -54  3.5   0.139820    -24108\n",
      "4   11.08  -18  0.5   0.050840       -56\n",
      "5   11.08  -18  1.5  17.698400   -269576\n",
      "6   11.08  -18  2.5   7.249690   -376991\n",
      "7   11.08  -18  3.5   0.139820    -16227\n",
      "8   11.08   18  0.5   0.050840        56\n",
      "9   11.08   18  1.5  17.698400    269576\n",
      "10  11.08   18  2.5   7.249690    376991\n",
      "11  11.08   18  3.5   0.139820     16227\n",
      "12  13.31  -18  0.5   0.038134       -43\n",
      "13  13.31  -18  1.5  18.736490   -298356\n",
      "14  13.31  -18  2.5  28.019990  -1511881\n",
      "15  13.31  -18  3.5   3.152409   -380453\n",
      "16  13.31  -18  4.5   0.012711     -2802\n",
      "17  13.31   18  0.5   0.038134        43\n",
      "18  13.31   18  1.5  18.736490        43\n",
      "19  13.31   18  2.5  28.019990   1511881\n",
      "20  13.31   18  3.5   3.152409    380453\n",
      "21  13.31   18  4.5   0.012711      2802\n",
      "22  13.31   54  0.5   0.038134        64\n",
      "23  13.31   54  1.5  18.736490    437339\n",
      "24  13.31   54  2.5  28.019990   2240535\n",
      "25  13.31   54  3.5   3.152409    564373\n",
      "26  13.31   54  4.5   0.012711      4160\n",
      "27  13.31   90  0.5   0.038134         0\n",
      "28  13.31   90  1.5  18.736490         0\n",
      "29  13.31   90  2.5  28.019990         0\n",
      "30  13.31   90  3.5   3.152409         0\n",
      "31  13.31   90  4.5   0.012711         0\n",
      "32  15.83  -18  0.5   0.016948       -20\n",
      "33  15.83  -18  1.5   6.321766   -104078\n",
      "34  15.83  -18  2.5  14.054489   -785261\n",
      "35  15.83  -18  3.5   4.122707   -515982\n",
      "36  15.83  -18  4.5   0.385577    -88264\n",
      "37  15.83   18  0.5   0.016948        20\n",
      "38  15.83   18  1.5   6.321766    104078\n",
      "39  15.83   18  2.5  14.054480    785260\n",
      "40  15.83   18  3.5   4.122707    515982\n",
      "41  15.83   18  4.5   0.385577     88264\n",
      "42  15.83   54  0.5   0.016948        29\n",
      "43  15.83   54  1.5   6.321766    154000\n",
      "44  15.83   54  2.5  14.054480   1162822\n",
      "45  15.83   54  3.5   4.122707    764636\n",
      "46  15.83   54  4.5   0.385577    130894\n",
      "47  15.83   90  0.5   0.016948         0\n",
      "48  15.83   90  1.5   6.321766         0\n",
      "49  15.83   90  2.5  14.054480         0\n",
      "50  15.83   90  3.5   4.122707         0\n",
      "51  15.83   90  4.5   0.385577         0\n"
     ]
    }
   ],
   "source": [
    "valores_prueba = pd.read_csv(\"valores_cerc.csv\").to_dict('records')\n",
    "df_resultados = pd.DataFrame(columns=['T', 'Fi0', 'Hs', 'Occ', 'Resultado'])\n",
    "\n",
    "# Mapeo de los nombres de los campos a las claves en los diccionarios\n",
    "mapeo_campos = {\n",
    "    \"Hs\": \"ctl00$regelsContentPlaceHolder$edt_1\",\n",
    "    \"T\": \"ctl00$regelsContentPlaceHolder$edt_2\",\n",
    "    \"Fi0\": \"ctl00$regelsContentPlaceHolder$edt_3\",\n",
    "    \"Occ\": \"ctl00$regelsContentPlaceHolder$edt_5\"\n",
    "}\n",
    "\n",
    "# Inicializar el navegador web\n",
    "driver = webdriver.Chrome()\n",
    "\n",
    "# Abrir la página web\n",
    "driver.get(\"http://www.cress.nl/Regel.aspx\")\n",
    "\n",
    "# Clickear en los enlaces para llegar al elemento deseado\n",
    "enlaces = [\"ctl00_regelsContentPlaceHolder_RulesTree1_tvRegelst45\",\n",
    "           \"ctl00_regelsContentPlaceHolder_RulesTree1_tvRegelst71\",\n",
    "           \"ctl00_regelsContentPlaceHolder_RulesTree1_tvRegelst90\",\n",
    "           \"ctl00_regelsContentPlaceHolder_RulesTree1_tvRegelst91\"]\n",
    "\n",
    "for enlace_id in enlaces:\n",
    "    enlace = WebDriverWait(driver, 10).until(EC.element_to_be_clickable((By.ID, enlace_id)))\n",
    "    enlace.click()\n",
    "\n",
    "# Para cada conjunto de valores en valores_prueba\n",
    "for valores in valores_prueba:\n",
    "    # Modificar los valores de los campos de entrada\n",
    "    for nombre, valor in valores.items():\n",
    "        campo_nombre = mapeo_campos[nombre]  # Obtener el nombre del campo correspondiente\n",
    "        campo = WebDriverWait(driver, 10).until(EC.visibility_of_element_located((By.NAME, campo_nombre)))\n",
    "        campo.clear()\n",
    "        campo.send_keys(str(valor))  # Convertir el valor a string antes de enviarlo\n",
    "\n",
    "    # Clickear en el botón \"Calculate\"\n",
    "    boton_calculate = WebDriverWait(driver, 10).until(EC.element_to_be_clickable((By.ID, \"ctl00_regelsContentPlaceHolder_btnBereken\")))\n",
    "    boton_calculate.click()\n",
    "\n",
    "    # Pausa para permitir que la página se actualice\n",
    "    time.sleep(2)\n",
    "\n",
    "    # Obtener el valor del campo de texto\n",
    "    valor_resultado = WebDriverWait(driver, 10).until(EC.visibility_of_element_located((By.ID, \"ctl00_regelsContentPlaceHolder_edt_12\"))).get_attribute(\"value\")\n",
    "    valores['Resultado'] = valor_resultado\n",
    "    valores_cerc = pd.DataFrame([valores])  # Crear un DataFrame con los valores\n",
    "    df_resultados = pd.concat([df_resultados, valores_cerc], ignore_index=True)\n",
    "\n",
    "driver.quit()\n",
    "\n",
    "print(df_resultados)"
   ]
  },
  {
   "cell_type": "code",
   "execution_count": 19,
   "metadata": {},
   "outputs": [],
   "source": [
    "df_resultados.to_csv('resultados_cerc_1.csv', index=False)"
   ]
  },
  {
   "cell_type": "markdown",
   "metadata": {},
   "source": [
    "## Queens"
   ]
  },
  {
   "cell_type": "code",
   "execution_count": 3,
   "metadata": {},
   "outputs": [
    {
     "name": "stderr",
     "output_type": "stream",
     "text": [
      "C:\\Users\\Portables\\AppData\\Local\\Temp\\ipykernel_24520\\3119693466.py:53: FutureWarning: The behavior of DataFrame concatenation with empty or all-NA entries is deprecated. In a future version, this will no longer exclude empty or all-NA columns when determining the result dtypes. To retain the old behavior, exclude the relevant entries before the concat operation.\n",
      "  df_resultados = pd.concat([df_resultados, valores_cerc], ignore_index=True)\n"
     ]
    },
    {
     "name": "stdout",
     "output_type": "stream",
     "text": [
      "        T  Fi0   Hs        Occ Resultado\n",
      "0   11.08  -54  0.5   0.050840       -30\n",
      "1   11.08  -54  1.5  17.698400    -81562\n",
      "2   11.08  -54  2.5   7.249690    -87094\n",
      "3   11.08  -54  3.5   0.139820     -3180\n",
      "4   11.08  -18  0.5   0.050840       -26\n",
      "5   11.08  -18  1.5  17.698400    -71271\n",
      "6   11.08  -18  2.5   7.249690    -76014\n",
      "7   11.08  -18  3.5   0.139820     -2772\n",
      "8   11.08   18  0.5   0.050840        26\n",
      "9   11.08   18  1.5  17.698400     71271\n",
      "10  11.08   18  2.5   7.249690     76014\n",
      "11  11.08   18  3.5   0.139820      2772\n",
      "12  13.31  -18  0.5   0.038134       -28\n",
      "13  13.31  -18  1.5  18.736490   -104157\n",
      "14  13.31  -18  2.5  28.019990   -404676\n",
      "15  13.31  -18  3.5   3.152409    -85658\n",
      "16  13.31  -18  4.5   0.012711      -555\n",
      "17  13.31   18  0.5   0.038134        28\n",
      "18  13.31   18  1.5  18.736490    104157\n",
      "19  13.31   18  2.5  28.019990    404676\n",
      "20  13.31   18  3.5   3.152409     85658\n",
      "21  13.31   18  4.5   0.012711       555\n",
      "22  13.31   54  0.5   0.038134        32\n",
      "23  13.31   54  1.5  18.736490    119537\n",
      "24  13.31   54  2.5  28.019990    463244\n",
      "25  13.31   54  3.5   3.152409     98134\n",
      "26  13.31   54  4.5   0.012711       636\n",
      "27  13.31   90  0.5   0.038134         0\n",
      "28  13.31   90  1.5  18.736490         0\n",
      "29  13.31   90  2.5  28.019990         0\n",
      "30  13.31   90  3.5   3.152409         0\n",
      "31  13.31   90  4.5   0.012711         0\n",
      "32  15.83  -18  0.5   0.016948       -17\n",
      "33  15.83  -18  1.5   6.321766    -47912\n",
      "34  15.83  -18  2.5  14.054489   -275693\n",
      "35  15.83  -18  3.5   4.122707   -151610\n",
      "36  15.83  -18  4.5   0.385577    -22707\n",
      "37  15.83   18  0.5   0.016948        17\n",
      "38  15.83   18  1.5   6.321766     47912\n",
      "39  15.83   18  2.5  14.054480    275693\n",
      "40  15.83   18  3.5   4.122707    151610\n",
      "41  15.83   18  4.5   0.385577     22707\n",
      "42  15.83   54  0.5   0.016948        19\n",
      "43  15.83   54  1.5   6.321766     54777\n",
      "44  15.83   54  2.5  14.054480    315394\n",
      "45  15.83   54  3.5   4.122707    173548\n",
      "46  15.83   54  4.5   0.385577     26008\n",
      "47  15.83   90  0.5   0.016948         0\n",
      "48  15.83   90  1.5   6.321766         0\n",
      "49  15.83   90  2.5  14.054480         0\n",
      "50  15.83   90  3.5   4.122707         0\n",
      "51  15.83   90  4.5   0.385577         0\n"
     ]
    }
   ],
   "source": [
    "valores_prueba = pd.read_csv(\"valores_cerc.csv\").to_dict('records')\n",
    "df_resultados = pd.DataFrame(columns=['T', 'Fi0', 'Hs', 'Occ', 'Resultado'])\n",
    "\n",
    "# Mapeo de los nombres de los campos a las claves en los diccionarios\n",
    "mapeo_campos = {\n",
    "    \"Hs\": \"ctl00$regelsContentPlaceHolder$edt_1\",\n",
    "    \"T\": \"ctl00$regelsContentPlaceHolder$edt_2\",\n",
    "    \"Fi0\": \"ctl00$regelsContentPlaceHolder$edt_3\",\n",
    "    \"Occ\": \"ctl00$regelsContentPlaceHolder$edt_10\"\n",
    "}\n",
    "\n",
    "# Inicializar el navegador web\n",
    "driver = webdriver.Chrome()\n",
    "\n",
    "# Abrir la página web\n",
    "driver.get(\"http://www.cress.nl/Regel.aspx\")\n",
    "\n",
    "# Clickear en los enlaces para llegar al elemento deseado\n",
    "enlaces = [\"ctl00_regelsContentPlaceHolder_RulesTree1_tvRegelst45\",\n",
    "           \"ctl00_regelsContentPlaceHolder_RulesTree1_tvRegelst71\",\n",
    "           \"ctl00_regelsContentPlaceHolder_RulesTree1_tvRegelst90\",\n",
    "           \"ctl00_regelsContentPlaceHolder_RulesTree1_tvRegelst92\"]\n",
    "\n",
    "for enlace_id in enlaces:\n",
    "    enlace = WebDriverWait(driver, 10).until(EC.element_to_be_clickable((By.ID, enlace_id)))\n",
    "    enlace.click()\n",
    "\n",
    "# Para cada conjunto de valores en valores_prueba\n",
    "for valores in valores_prueba:\n",
    "    # Modificar los valores de los campos de entrada\n",
    "    for nombre, valor in valores.items():\n",
    "        campo_nombre = mapeo_campos[nombre]  # Obtener el nombre del campo correspondiente\n",
    "        campo = WebDriverWait(driver, 10).until(EC.visibility_of_element_located((By.NAME, campo_nombre)))\n",
    "        campo.clear()\n",
    "        campo.send_keys(str(valor))  # Convertir el valor a string antes de enviarlo\n",
    "\n",
    "    # Clickear en el botón \"Calculate\"\n",
    "    boton_calculate = WebDriverWait(driver, 10).until(EC.element_to_be_clickable((By.ID, \"ctl00_regelsContentPlaceHolder_btnBereken\")))\n",
    "    boton_calculate.click()\n",
    "\n",
    "    # Pausa para permitir que la página se actualice\n",
    "    time.sleep(2)\n",
    "\n",
    "    # Obtener el valor del campo de texto\n",
    "    valor_resultado = WebDriverWait(driver, 10).until(EC.visibility_of_element_located((By.ID, \"ctl00_regelsContentPlaceHolder_edt_18\"))).get_attribute(\"value\")\n",
    "    valores['Resultado'] = valor_resultado\n",
    "    valores_cerc = pd.DataFrame([valores])  # Crear un DataFrame con los valores\n",
    "    df_resultados = pd.concat([df_resultados, valores_cerc], ignore_index=True)\n",
    "\n",
    "\n",
    "driver.quit()\n",
    "\n",
    "print(df_resultados)"
   ]
  },
  {
   "cell_type": "code",
   "execution_count": 4,
   "metadata": {},
   "outputs": [],
   "source": [
    "df_resultados.to_csv(\"resultados_queens_1.csv\", index=False)"
   ]
  },
  {
   "cell_type": "markdown",
   "metadata": {},
   "source": [
    "## Promedios"
   ]
  },
  {
   "cell_type": "code",
   "execution_count": 13,
   "metadata": {},
   "outputs": [],
   "source": [
    "resultados_cerc = pd.read_csv(\"resultados_cerc_1.csv\")\n",
    "promedio_por_T = resultados_cerc.groupby('T')['Resultado'].mean().round(4)\n",
    "promedio_por_T.to_csv(\"promedios_cerc.csv\")"
   ]
  },
  {
   "cell_type": "code",
   "execution_count": 15,
   "metadata": {},
   "outputs": [],
   "source": [
    "resultados_queens = pd.read_csv(\"resultados_queens_1.csv\")\n",
    "promedio_por_T = resultados_queens.groupby('T')['Resultado'].mean().round(4)\n",
    "promedio_por_T.to_csv(\"promedios_queens.csv\")"
   ]
  }
 ],
 "metadata": {
  "kernelspec": {
   "display_name": "Python 3",
   "language": "python",
   "name": "python3"
  },
  "language_info": {
   "codemirror_mode": {
    "name": "ipython",
    "version": 3
   },
   "file_extension": ".py",
   "mimetype": "text/x-python",
   "name": "python",
   "nbconvert_exporter": "python",
   "pygments_lexer": "ipython3",
   "version": "3.11.5"
  }
 },
 "nbformat": 4,
 "nbformat_minor": 2
}
