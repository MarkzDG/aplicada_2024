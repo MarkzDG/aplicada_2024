{
 "cells": [
  {
   "cell_type": "code",
   "execution_count": 1,
   "metadata": {},
   "outputs": [],
   "source": [
    "import numpy as np\n",
    "import pandas as pd\n",
    "import matplotlib.pyplot as plt"
   ]
  },
  {
   "cell_type": "code",
   "execution_count": 2,
   "metadata": {},
   "outputs": [],
   "source": [
    "datos = pd.read_excel('waves_WW3_15.75S_75W.xlsx', usecols=['Hs (m)', 'Tp (s)', 'Dir'])"
   ]
  },
  {
   "cell_type": "markdown",
   "metadata": {},
   "source": [
    "Para orientar las direcciones conforme a la costa, restamos 208°"
   ]
  },
  {
   "cell_type": "code",
   "execution_count": 3,
   "metadata": {},
   "outputs": [],
   "source": [
    "datos['Dir'] = datos['Dir'] - 208"
   ]
  },
  {
   "cell_type": "code",
   "execution_count": 4,
   "metadata": {},
   "outputs": [
    {
     "name": "stdout",
     "output_type": "stream",
     "text": [
      "-57.91999999999999 85.12\n",
      "0.78 4.79\n"
     ]
    }
   ],
   "source": [
    "# Habiendo restado -208° vemos como se modifican los valores a fin de poder ver que intervalos van a quedar mejor\n",
    "print(datos['Dir'].min(), datos['Dir'].max())\n",
    "print(datos['Hs (m)'].min(), datos['Hs (m)'].max())"
   ]
  },
  {
   "cell_type": "code",
   "execution_count": 5,
   "metadata": {},
   "outputs": [],
   "source": [
    "bins_H = pd.interval_range(start=0, end=5, freq=1,closed='left')\n",
    "bins_D = pd.interval_range(start=-180, end=180, freq=36,closed='left')"
   ]
  },
  {
   "cell_type": "code",
   "execution_count": 6,
   "metadata": {},
   "outputs": [],
   "source": [
    "datos['Dir_bins']=pd.cut(datos['Dir'],bins_D)\n",
    "datos['Hs_bins']=pd.cut(datos['Hs (m)'],bins_H)"
   ]
  },
  {
   "cell_type": "markdown",
   "metadata": {},
   "source": [
    "Con esto podemos obtener el total de casos de olas encasilladas en dadas direcciones (Dir) y alturas significativas (Hs)"
   ]
  },
  {
   "cell_type": "code",
   "execution_count": 7,
   "metadata": {},
   "outputs": [
    {
     "data": {
      "text/html": [
       "<div>\n",
       "<style scoped>\n",
       "    .dataframe tbody tr th:only-of-type {\n",
       "        vertical-align: middle;\n",
       "    }\n",
       "\n",
       "    .dataframe tbody tr th {\n",
       "        vertical-align: top;\n",
       "    }\n",
       "\n",
       "    .dataframe thead th {\n",
       "        text-align: right;\n",
       "    }\n",
       "</style>\n",
       "<table border=\"1\" class=\"dataframe\">\n",
       "  <thead>\n",
       "    <tr style=\"text-align: right;\">\n",
       "      <th>Dir (°)</th>\n",
       "      <th>[-72, -36)</th>\n",
       "      <th>[-36, 0)</th>\n",
       "      <th>[0, 36)</th>\n",
       "      <th>[36, 72)</th>\n",
       "      <th>[72, 108)</th>\n",
       "    </tr>\n",
       "    <tr>\n",
       "      <th>Hs (m)</th>\n",
       "      <th></th>\n",
       "      <th></th>\n",
       "      <th></th>\n",
       "      <th></th>\n",
       "      <th></th>\n",
       "    </tr>\n",
       "  </thead>\n",
       "  <tbody>\n",
       "    <tr>\n",
       "      <th>[0, 1)</th>\n",
       "      <td>1</td>\n",
       "      <td>9</td>\n",
       "      <td>11</td>\n",
       "      <td>4</td>\n",
       "      <td>0</td>\n",
       "    </tr>\n",
       "    <tr>\n",
       "      <th>[1, 2)</th>\n",
       "      <td>11</td>\n",
       "      <td>5204</td>\n",
       "      <td>4654</td>\n",
       "      <td>85</td>\n",
       "      <td>137</td>\n",
       "    </tr>\n",
       "    <tr>\n",
       "      <th>[2, 3)</th>\n",
       "      <td>14</td>\n",
       "      <td>7085</td>\n",
       "      <td>4542</td>\n",
       "      <td>0</td>\n",
       "      <td>0</td>\n",
       "    </tr>\n",
       "    <tr>\n",
       "      <th>[3, 4)</th>\n",
       "      <td>0</td>\n",
       "      <td>1237</td>\n",
       "      <td>513</td>\n",
       "      <td>0</td>\n",
       "      <td>0</td>\n",
       "    </tr>\n",
       "    <tr>\n",
       "      <th>[4, 5)</th>\n",
       "      <td>0</td>\n",
       "      <td>45</td>\n",
       "      <td>49</td>\n",
       "      <td>0</td>\n",
       "      <td>0</td>\n",
       "    </tr>\n",
       "  </tbody>\n",
       "</table>\n",
       "</div>"
      ],
      "text/plain": [
       "Dir (°)  [-72, -36)  [-36, 0)  [0, 36)  [36, 72)  [72, 108)\n",
       "Hs (m)                                                     \n",
       "[0, 1)            1         9       11         4          0\n",
       "[1, 2)           11      5204     4654        85        137\n",
       "[2, 3)           14      7085     4542         0          0\n",
       "[3, 4)            0      1237      513         0          0\n",
       "[4, 5)            0        45       49         0          0"
      ]
     },
     "execution_count": 7,
     "metadata": {},
     "output_type": "execute_result"
    }
   ],
   "source": [
    "tabla = pd.crosstab(datos.Hs_bins,datos.Dir_bins)\n",
    "tabla = tabla.rename_axis('Dir (°)', axis=1)\n",
    "tabla = tabla.rename_axis('Hs (m)', axis=0)\n",
    "tabla"
   ]
  },
  {
   "cell_type": "markdown",
   "metadata": {},
   "source": [
    "Sin embargo, se trata de todos los casos de valores de período pico. Pero dado que en el enunciado nos piden separar por al menos 3 intervalos, podemos decidir en separar por intervalos intercuartiles "
   ]
  },
  {
   "cell_type": "code",
   "execution_count": 8,
   "metadata": {},
   "outputs": [
    {
     "data": {
      "text/plain": [
       "True"
      ]
     },
     "execution_count": 8,
     "metadata": {},
     "output_type": "execute_result"
    }
   ],
   "source": [
    "quantiles = datos['Tp (s)'].quantile([.25, .75]).tolist()\n",
    "\n",
    "# quantiles[0] = 12.06, quantiles[1] = 14.51\n",
    "\n",
    "datos_1 = datos[datos['Tp (s)'] <= quantiles[0]]\n",
    "datos_2 = datos[(datos['Tp (s)'] > quantiles[0]) & (datos['Tp (s)'] <= quantiles[1])]\n",
    "datos_3 = datos[datos['Tp (s)'] > quantiles[1]]\n",
    "\n",
    "len(datos) == len(datos_1) + len(datos_2) + len(datos_3)"
   ]
  },
  {
   "cell_type": "code",
   "execution_count": 9,
   "metadata": {},
   "outputs": [
    {
     "name": "stdout",
     "output_type": "stream",
     "text": [
      "11.088253834485084 13.312438300398611 15.836382508082355\n"
     ]
    }
   ],
   "source": [
    "print(datos_1['Tp (s)'].mean(), datos_2['Tp (s)'].mean(), datos_3['Tp (s)'].mean())"
   ]
  },
  {
   "cell_type": "code",
   "execution_count": 10,
   "metadata": {},
   "outputs": [
    {
     "name": "stdout",
     "output_type": "stream",
     "text": [
      "Tabla para datos_1:\n",
      "Dir (°)     [-72, -36)  [-36, 0)   [0, 36)  Suma Total\n",
      "Hs (m)                                                \n",
      "[0, 1)        0.000169  0.001348  0.000506    0.002023\n",
      "[1, 2)        0.001854  0.478341  0.223833    0.704028\n",
      "[2, 3)        0.002360  0.247767  0.038261    0.288387\n",
      "[3, 4)        0.000000  0.005562  0.000000    0.005562\n",
      "Suma Total    0.004382  0.733019  0.262599    1.000000\n",
      "\n",
      "\n",
      "Tabla para datos_2:\n",
      "Dir (°)     [-36, 0)   [0, 36)  [36, 72)  [72, 108)  Suma Total\n",
      "Hs (m)                                                         \n",
      "[0, 1)      0.000085  0.000509  0.000170   0.000000    0.000763\n",
      "[1, 2)      0.166907  0.205835  0.001527   0.000763    0.375032\n",
      "[2, 3)      0.341701  0.219150  0.000000   0.000000    0.560851\n",
      "[3, 4)      0.045374  0.017725  0.000000   0.000000    0.063099\n",
      "[4, 5)      0.000254  0.000000  0.000000   0.000000    0.000254\n",
      "Suma Total  0.554321  0.443219  0.001696   0.000763    1.000000\n",
      "\n",
      "\n",
      "Tabla para datos_3:\n",
      "Dir (°)     [-36, 0)   [0, 36)  [36, 72)  [72, 108)  Suma Total\n",
      "Hs (m)                                                         \n",
      "[0, 1)      0.000000  0.000340  0.000340    0.00000    0.000681\n",
      "[1, 2)      0.067722  0.152969  0.011400    0.02178    0.253871\n",
      "[2, 3)      0.269866  0.294538  0.000000    0.00000    0.564404\n",
      "[3, 4)      0.113834  0.051727  0.000000    0.00000    0.165561\n",
      "[4, 5)      0.007147  0.008338  0.000000    0.00000    0.015484\n",
      "Suma Total  0.458567  0.507912  0.011741    0.02178    1.000000\n",
      "\n",
      "\n"
     ]
    }
   ],
   "source": [
    "# Lista de datos y etiquetas\n",
    "datos_list = [datos_1, datos_2, datos_3]\n",
    "etiquetas = ['datos_1', 'datos_2', 'datos_3']\n",
    "\n",
    "# Diccionario para almacenar las tablas\n",
    "tablas = {}\n",
    "\n",
    "# Procesar cada conjunto de datos\n",
    "for datos_i, etiqueta in zip(datos_list, etiquetas):\n",
    "    tabla = pd.crosstab(datos_i['Hs_bins'], datos_i['Dir_bins'], margins=True, margins_name='Suma Total', normalize='all')\n",
    "    tabla = tabla.rename_axis('Dir (°)', axis=1)\n",
    "    tabla = tabla.rename_axis('Hs (m)', axis=0)\n",
    "    tablas[etiqueta] = tabla\n",
    "    tabla.to_csv(f'valores_rango_{etiqueta}.csv', index= False)\n",
    "\n",
    "# Mostrar las tablas\n",
    "for etiqueta, tabla in tablas.items():\n",
    "    print(f\"Tabla para {etiqueta}:\")\n",
    "    print(tabla)\n",
    "    print(\"\\n\")"
   ]
  },
  {
   "cell_type": "code",
   "execution_count": 11,
   "metadata": {},
   "outputs": [
    {
     "data": {
      "text/plain": [
       "[0.25138765306554806, 0.49959747468327614, 0.2490148722511758]"
      ]
     },
     "execution_count": 11,
     "metadata": {},
     "output_type": "execute_result"
    }
   ],
   "source": [
    "porcentajes = [len(datos_i) / len(datos) for datos_i in datos_list]\n",
    "porcentajes"
   ]
  },
  {
   "cell_type": "code",
   "execution_count": 16,
   "metadata": {},
   "outputs": [
    {
     "name": "stdout",
     "output_type": "stream",
     "text": [
      "Tabla para datos_1:\n",
      "Dir (°)     [-72, -36)  [-36, 0)  [0, 36)  Suma Total\n",
      "Hs (m)                                               \n",
      "[0, 1)          0.0042    0.0339   0.0127      0.0508\n",
      "[1, 2)          0.0466   12.0249   5.6269     17.6984\n",
      "[2, 3)          0.0593    6.2285   0.9618      7.2497\n",
      "[3, 4)          0.0000    0.1398   0.0000      0.1398\n",
      "Suma Total      0.1102   18.4272   6.6014     25.1388\n",
      "\n",
      "\n",
      "Tabla para datos_2:\n",
      "Dir (°)     [-36, 0)  [0, 36)  [36, 72)  [72, 108)  Suma Total\n",
      "Hs (m)                                                        \n",
      "[0, 1)        0.0042   0.0254    0.0085     0.0000      0.0381\n",
      "[1, 2)        8.3386  10.2835    0.0763     0.0381     18.7365\n",
      "[2, 3)       17.0713  10.9487    0.0000     0.0000     28.0200\n",
      "[3, 4)        2.2669   0.8856    0.0000     0.0000      3.1524\n",
      "[4, 5)        0.0127   0.0000    0.0000     0.0000      0.0127\n",
      "Suma Total   27.6937  22.1431    0.0847     0.0381     49.9597\n",
      "\n",
      "\n",
      "Tabla para datos_3:\n",
      "Dir (°)     [-36, 0)  [0, 36)  [36, 72)  [72, 108)  Suma Total\n",
      "Hs (m)                                                        \n",
      "[0, 1)        0.0000   0.0085    0.0085     0.0000      0.0169\n",
      "[1, 2)        1.6864   3.8092    0.2839     0.5423      6.3218\n",
      "[2, 3)        6.7201   7.3344    0.0000     0.0000     14.0545\n",
      "[3, 4)        2.8346   1.2881    0.0000     0.0000      4.1227\n",
      "[4, 5)        0.1780   0.2076    0.0000     0.0000      0.3856\n",
      "Suma Total   11.4190  12.6478    0.2924     0.5423     24.9015\n",
      "\n",
      "\n"
     ]
    }
   ],
   "source": [
    "# Lista de datos y etiquetas\n",
    "datos_list = [datos_1, datos_2, datos_3]\n",
    "etiquetas = ['datos_1', 'datos_2', 'datos_3']\n",
    "\n",
    "# Diccionario para almacenar las tablas\n",
    "tablas = {}\n",
    "\n",
    "# Procesar cada conjunto de datos\n",
    "for datos_i, porcentajes_i, etiqueta in zip(datos_list, porcentajes, etiquetas):\n",
    "    tabla = pd.crosstab(datos_i['Hs_bins'], datos_i['Dir_bins'], margins=True, margins_name='Suma Total', normalize='all') * porcentajes_i * 100\n",
    "    tabla = tabla.round(4)  # Redondear a 4 decimales\n",
    "    tabla = tabla.rename_axis('Dir (°)', axis=1)\n",
    "    tabla = tabla.rename_axis('Hs (m)', axis=0)\n",
    "    tablas[etiqueta] = tabla\n",
    "    tabla.to_csv(f\"valores_rango_{etiqueta}.csv\")\n",
    "\n",
    "# Mostrar las tablas\n",
    "for etiqueta, tabla in tablas.items():\n",
    "    print(f\"Tabla para {etiqueta}:\")\n",
    "    print(tabla)\n",
    "    print(\"\\n\")"
   ]
  },
  {
   "cell_type": "code",
   "execution_count": 13,
   "metadata": {},
   "outputs": [
    {
     "data": {
      "text/html": [
       "<div>\n",
       "<style scoped>\n",
       "    .dataframe tbody tr th:only-of-type {\n",
       "        vertical-align: middle;\n",
       "    }\n",
       "\n",
       "    .dataframe tbody tr th {\n",
       "        vertical-align: top;\n",
       "    }\n",
       "\n",
       "    .dataframe thead th {\n",
       "        text-align: right;\n",
       "    }\n",
       "</style>\n",
       "<table border=\"1\" class=\"dataframe\">\n",
       "  <thead>\n",
       "    <tr style=\"text-align: right;\">\n",
       "      <th></th>\n",
       "      <th>T</th>\n",
       "      <th>Fi0</th>\n",
       "      <th>Hs</th>\n",
       "      <th>Occ</th>\n",
       "    </tr>\n",
       "  </thead>\n",
       "  <tbody>\n",
       "    <tr>\n",
       "      <th>47</th>\n",
       "      <td>15.83</td>\n",
       "      <td>90</td>\n",
       "      <td>0.5</td>\n",
       "      <td>0.016948</td>\n",
       "    </tr>\n",
       "    <tr>\n",
       "      <th>48</th>\n",
       "      <td>15.83</td>\n",
       "      <td>90</td>\n",
       "      <td>1.5</td>\n",
       "      <td>6.321766</td>\n",
       "    </tr>\n",
       "    <tr>\n",
       "      <th>49</th>\n",
       "      <td>15.83</td>\n",
       "      <td>90</td>\n",
       "      <td>2.5</td>\n",
       "      <td>14.054480</td>\n",
       "    </tr>\n",
       "    <tr>\n",
       "      <th>50</th>\n",
       "      <td>15.83</td>\n",
       "      <td>90</td>\n",
       "      <td>3.5</td>\n",
       "      <td>4.122707</td>\n",
       "    </tr>\n",
       "    <tr>\n",
       "      <th>51</th>\n",
       "      <td>15.83</td>\n",
       "      <td>90</td>\n",
       "      <td>4.5</td>\n",
       "      <td>0.385577</td>\n",
       "    </tr>\n",
       "  </tbody>\n",
       "</table>\n",
       "</div>"
      ],
      "text/plain": [
       "        T  Fi0   Hs        Occ\n",
       "47  15.83   90  0.5   0.016948\n",
       "48  15.83   90  1.5   6.321766\n",
       "49  15.83   90  2.5  14.054480\n",
       "50  15.83   90  3.5   4.122707\n",
       "51  15.83   90  4.5   0.385577"
      ]
     },
     "execution_count": 13,
     "metadata": {},
     "output_type": "execute_result"
    }
   ],
   "source": [
    "# Lista de valores a añadir\n",
    "valores = [\n",
    "    {'T': 11.08, 'Fi0':-54 , 'Hs':0.5, 'Occ':0.05084},\n",
    "    {'T': 11.08, 'Fi0':-54 , 'Hs':1.5, 'Occ':17.6984},\n",
    "    {'T': 11.08, 'Fi0':-54,  'Hs':2.5, 'Occ':7.24969},\n",
    "    {'T': 11.08, 'Fi0':-54 , 'Hs':3.5, 'Occ':0.13982},\n",
    "    {'T': 11.08, 'Fi0':-18 , 'Hs':0.5, 'Occ':0.05084},\n",
    "    {'T': 11.08, 'Fi0':-18 , 'Hs':1.5, 'Occ':17.6984},\n",
    "    {'T': 11.08, 'Fi0':-18 , 'Hs':2.5, 'Occ':7.24969},\n",
    "    {'T': 11.08, 'Fi0':-18 , 'Hs':3.5, 'Occ':0.13982},\n",
    "    {'T': 11.08, 'Fi0':18  , 'Hs':0.5, 'Occ':0.05084},\n",
    "    {'T': 11.08, 'Fi0':18  , 'Hs':1.5, 'Occ':17.6984},\n",
    "    {'T': 11.08, 'Fi0':18  , 'Hs':2.5, 'Occ':7.24969},\n",
    "    {'T': 11.08, 'Fi0':18  , 'Hs':3.5, 'Occ':0.13982},\n",
    "    \n",
    "    {'T': 13.31, 'Fi0':-18 , 'Hs':0.5, 'Occ': 0.038134},\n",
    "    {'T': 13.31, 'Fi0':-18 , 'Hs':1.5, 'Occ': 18.73649},\n",
    "    {'T': 13.31, 'Fi0':-18 , 'Hs':2.5, 'Occ': 28.01999},\n",
    "    {'T': 13.31, 'Fi0':-18 , 'Hs':3.5, 'Occ': 3.152409},\n",
    "    {'T': 13.31, 'Fi0':-18 , 'Hs':4.5, 'Occ': 0.012711},\n",
    "    {'T': 13.31, 'Fi0':18  , 'Hs':0.5, 'Occ': 0.038134},\n",
    "    {'T': 13.31, 'Fi0':18  , 'Hs':1.5, 'Occ': 18.73649},\n",
    "    {'T': 13.31, 'Fi0':18  , 'Hs':2.5, 'Occ': 28.01999},\n",
    "    {'T': 13.31, 'Fi0':18  , 'Hs':3.5, 'Occ': 3.152409},\n",
    "    {'T': 13.31, 'Fi0':18  , 'Hs':4.5, 'Occ': 0.012711},\n",
    "    {'T': 13.31, 'Fi0':54 , 'Hs':0.5, 'Occ': 0.038134 },\n",
    "    {'T': 13.31, 'Fi0':54 , 'Hs':1.5, 'Occ': 18.73649 },\n",
    "    {'T': 13.31, 'Fi0':54 , 'Hs':2.5, 'Occ': 28.01999 },\n",
    "    {'T': 13.31, 'Fi0':54 , 'Hs':3.5, 'Occ': 3.152409 },\n",
    "    {'T': 13.31, 'Fi0':54 , 'Hs':4.5, 'Occ': 0.012711 },\n",
    "    {'T': 13.31, 'Fi0':90 , 'Hs':0.5, 'Occ': 0.038134 },\n",
    "    {'T': 13.31, 'Fi0':90 , 'Hs':1.5, 'Occ': 18.73649 },\n",
    "    {'T': 13.31, 'Fi0':90 , 'Hs':2.5, 'Occ': 28.01999 },\n",
    "    {'T': 13.31, 'Fi0':90 , 'Hs':3.5, 'Occ': 3.152409 },\n",
    "    {'T': 13.31, 'Fi0':90 , 'Hs':4.5, 'Occ': 0.012711 },\n",
    "\n",
    "    {'T': 15.83, 'Fi0':-18  , 'Hs':0.5, 'Occ': 0.016948},\n",
    "    {'T': 15.83, 'Fi0':-18 , 'Hs':1.5, 'Occ': 6.321766},\n",
    "    {'T': 15.83, 'Fi0':-18 , 'Hs':2.5, 'Occ': 14.054489},\n",
    "    {'T': 15.83, 'Fi0':-18 , 'Hs':3.5, 'Occ': 4.122707},\n",
    "    {'T': 15.83, 'Fi0':-18 , 'Hs':4.5, 'Occ': 0.385577},\n",
    "    {'T': 15.83, 'Fi0':18  , 'Hs':0.5, 'Occ': 0.016948},\n",
    "    {'T': 15.83, 'Fi0':18  , 'Hs':1.5, 'Occ': 6.321766},\n",
    "    {'T': 15.83, 'Fi0':18  , 'Hs':2.5, 'Occ': 14.05448},\n",
    "    {'T': 15.83, 'Fi0':18  , 'Hs':3.5, 'Occ': 4.122707},\n",
    "    {'T': 15.83, 'Fi0':18  , 'Hs':4.5, 'Occ': 0.385577},\n",
    "    {'T': 15.83, 'Fi0':54 , 'Hs':0.5, 'Occ': 0.016948 },\n",
    "    {'T': 15.83, 'Fi0':54 , 'Hs':1.5, 'Occ': 6.321766 },\n",
    "    {'T': 15.83, 'Fi0':54 , 'Hs':2.5, 'Occ': 14.05448 },\n",
    "    {'T': 15.83, 'Fi0':54 , 'Hs':3.5, 'Occ': 4.122707 },\n",
    "    {'T': 15.83, 'Fi0':54 , 'Hs':4.5, 'Occ': 0.385577 },\n",
    "    {'T': 15.83, 'Fi0':90 , 'Hs':0.5, 'Occ': 0.016948 },\n",
    "    {'T': 15.83, 'Fi0':90 , 'Hs':1.5, 'Occ': 6.321766 },\n",
    "    {'T': 15.83, 'Fi0':90 , 'Hs':2.5, 'Occ': 14.05448 },\n",
    "    {'T': 15.83, 'Fi0':90 , 'Hs':3.5, 'Occ': 4.122707 },\n",
    "    {'T': 15.83,'Fi0':90 , 'Hs':4.5, 'Occ': 0.385577}\n",
    "]\n",
    "\n",
    "# Crear un DataFrame vacío con las columnas 'Fi0', 'Hs' y 'S'\n",
    "valores_cerc = pd.DataFrame(valores)\n",
    "valores_cerc.tail()"
   ]
  },
  {
   "cell_type": "code",
   "execution_count": 14,
   "metadata": {},
   "outputs": [],
   "source": [
    "valores_cerc.to_csv(\"valores_cerc.csv\", index=False)"
   ]
  }
 ],
 "metadata": {
  "kernelspec": {
   "display_name": "Python 3",
   "language": "python",
   "name": "python3"
  },
  "language_info": {
   "codemirror_mode": {
    "name": "ipython",
    "version": 3
   },
   "file_extension": ".py",
   "mimetype": "text/x-python",
   "name": "python",
   "nbconvert_exporter": "python",
   "pygments_lexer": "ipython3",
   "version": "3.11.5"
  }
 },
 "nbformat": 4,
 "nbformat_minor": 2
}
