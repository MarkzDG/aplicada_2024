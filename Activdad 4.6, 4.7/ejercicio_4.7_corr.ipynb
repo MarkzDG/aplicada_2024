{
 "cells": [
  {
   "cell_type": "code",
   "execution_count": 1,
   "metadata": {},
   "outputs": [],
   "source": [
    "import pandas as pd\n",
    "import numpy as np\n",
    "from pyextremes import EVA\n",
    "import matplotlib.pyplot as plt\n",
    "import metpy.calc as mpcalc\n",
    "from metpy.units import units\n",
    "\n",
    "# Load data\n",
    "file_path = \"datos_viento.xlsx\"\n",
    "datos = pd.read_excel(file_path, sheet_name=\"Wind TdF \", usecols=[0, 1, 2])"
   ]
  },
  {
   "cell_type": "code",
   "execution_count": 2,
   "metadata": {},
   "outputs": [
    {
     "name": "stdout",
     "output_type": "stream",
     "text": [
      "             N         NE          E         SE          S         SO  \\\n",
      "5    21.517956  19.386322  17.771155  14.339204  18.959229  24.996812   \n",
      "50   23.005078  22.152813  28.516727  22.264626  19.908844  26.972172   \n",
      "100  23.143136  22.629988  31.640319  24.568439  19.969535  27.201395   \n",
      "\n",
      "             O         NO  \n",
      "5    27.121692  25.074737  \n",
      "50   30.481756  27.339622  \n",
      "100  31.208910  27.678308  \n"
     ]
    }
   ],
   "source": [
    "# Intensidad\n",
    "datos['Intensidad'] = np.sqrt(datos['u (m/s)']**2 + datos['v (m/s)']**2)\n",
    "\n",
    "# Dirección\n",
    "u = datos['u (m/s)'].values * units('m/s')\n",
    "v = datos['v (m/s)'].values * units('m/s')\n",
    "datos['Direccion'] = mpcalc.wind_direction(u, v, convention='from').m\n",
    "\n",
    "def degToCompass(num):\n",
    "    val = int((num / 45) + .5)\n",
    "    arr = [\"N\", \"NE\", \"E\", \"SE\", \"S\", \"SO\", \"O\", \"NO\"]\n",
    "    return arr[val % 8]\n",
    "\n",
    "datos['Octante'] = datos['Direccion'].apply(degToCompass)\n",
    "\n",
    "\n",
    "octantes = [\"N\", \"NE\", \"E\", \"SE\", \"S\", \"SO\", \"O\", \"NO\"]\n",
    "ret_periods = [5, 50, 100]\n",
    "resultados = pd.DataFrame(index=ret_periods, columns=octantes)\n",
    "\n",
    "for octante in octantes:\n",
    "    datos_octante = datos.copy()\n",
    "    datos_octante.loc[datos_octante['Octante'] != octante, 'Intensidad'] = 0\n",
    "    \n",
    "    model = EVA(data=datos_octante.set_index('Fecha y Hora')['Intensidad'])\n",
    "    model.get_extremes(method='BM', block_size='365D')\n",
    "    model.fit_model()\n",
    "    summary = model.get_summary(return_period=ret_periods, alpha=0.95)\n",
    "    \n",
    "    resultados[octante] = summary['return value']\n",
    "\n",
    "print(resultados)"
   ]
  }
 ],
 "metadata": {
  "kernelspec": {
   "display_name": "Python 3",
   "language": "python",
   "name": "python3"
  },
  "language_info": {
   "codemirror_mode": {
    "name": "ipython",
    "version": 3
   },
   "file_extension": ".py",
   "mimetype": "text/x-python",
   "name": "python",
   "nbconvert_exporter": "python",
   "pygments_lexer": "ipython3",
   "version": "3.11.5"
  }
 },
 "nbformat": 4,
 "nbformat_minor": 2
}
