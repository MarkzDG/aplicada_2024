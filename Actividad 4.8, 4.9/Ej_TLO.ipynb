{
 "cells": [
  {
   "cell_type": "code",
   "execution_count": 1,
   "metadata": {},
   "outputs": [],
   "source": [
    "import numpy as np\n",
    "from scipy.optimize import newton"
   ]
  },
  {
   "cell_type": "code",
   "execution_count": 9,
   "metadata": {},
   "outputs": [
    {
     "name": "stdout",
     "output_type": "stream",
     "text": [
      "El valor de kh es: 0.5545666302712624\n"
     ]
    }
   ],
   "source": [
    "def f(kh, C1):\n",
    "    return C1 / kh - np.tanh(kh)\n",
    "\n",
    "def f_prime(kh, C1):\n",
    "    return -C1 / (kh ** 2) - (1 - np.tanh(kh) ** 2)\n",
    "\n",
    "def newton_raphson(T, h, tol=1e-6, max_iter=100):\n",
    "    g = 9.81  # aceleración debido a la gravedad en m/s^2\n",
    "    sigma = 2 * np.pi / T\n",
    "    C1 = h * sigma ** 2 / g\n",
    "    \n",
    "    # Valor inicial para kh\n",
    "    kh = 0.5\n",
    "    \n",
    "    for i in range(max_iter):\n",
    "        f_kh = f(kh, C1)\n",
    "        f_prime_kh = f_prime(kh, C1)\n",
    "        \n",
    "        if abs(f_prime_kh) < 1e-10:\n",
    "            print(\"Derivada cercana a cero. El método de Newton-Raphson puede fallar.\")\n",
    "            return None\n",
    "        \n",
    "        kh_next = kh - f_kh / f_prime_kh\n",
    "        \n",
    "        if abs(kh_next - kh) < tol:\n",
    "            return kh_next\n",
    "        \n",
    "        kh = kh_next\n",
    "    \n",
    "    print(\"Número máximo de iteraciones alcanzado sin convergencia.\")\n",
    "    return None\n",
    "\n",
    "# Ejemplo de uso\n",
    "T = 12  # período en segundos\n",
    "h = 10.0  # profundidad en metros\n",
    "tol = 1e-6\n",
    "\n",
    "kh_result = newton_raphson(T, h, tol)\n",
    "print(f\"El valor de kh es: {kh_result}\")"
   ]
  },
  {
   "cell_type": "code",
   "execution_count": 10,
   "metadata": {},
   "outputs": [
    {
     "name": "stdout",
     "output_type": "stream",
     "text": [
      "El valor de kh es: 0.4212885213617853\n"
     ]
    }
   ],
   "source": [
    "# Parámetros para la nueva profundidad de 6 m\n",
    "T = 12  # período en segundos\n",
    "h = 6.0  # profundidad en metros\n",
    "tol = 1e-6\n",
    "\n",
    "kh_result = newton_raphson(T, h, tol)\n",
    "print(f\"El valor de kh es: {kh_result}\")"
   ]
  },
  {
   "cell_type": "code",
   "execution_count": 14,
   "metadata": {},
   "outputs": [
    {
     "name": "stdout",
     "output_type": "stream",
     "text": [
      "Experimento 1:\n",
      "  Longitud de onda calculada (L): 1.18 m\n",
      "  Celeridad calculada (C): 1.36 m/s\n",
      "  Error en L: 3.92%\n",
      "  Error en C: 3.66%\n",
      "Experimento 2:\n",
      "  Longitud de onda calculada (L): 2.43 m\n",
      "  Celeridad calculada (C): 1.94 m/s\n",
      "  Error en L: 0.86%\n",
      "  Error en C: 0.75%\n"
     ]
    }
   ],
   "source": [
    "experimentos = [\n",
    "    {\"T\": 0.87, \"L_medida\": 1.23, \"C_medida\": 1.41, \"h\": 1.22},\n",
    "    {\"T\": 1.25, \"L_medida\": 2.41, \"C_medida\": 1.93, \"h\": 1.22}\n",
    "]\n",
    "\n",
    "resultados = []\n",
    "\n",
    "for exp in experimentos:\n",
    "    T = exp[\"T\"]\n",
    "    h = exp[\"h\"]\n",
    "    tol = 1e-6\n",
    "    \n",
    "    # Cálculo de kh usando Newton-Raphson\n",
    "    kh_result = newton_raphson(T, h, tol)\n",
    "    k = kh_result / h\n",
    "    L_calculada = 2 * np.pi / k\n",
    "    C_calculada = L_calculada / T\n",
    "    \n",
    "    # Calcular el error porcentual\n",
    "    error_L = abs((L_calculada - exp[\"L_medida\"]) / exp[\"L_medida\"]) * 100\n",
    "    error_C = abs((C_calculada - exp[\"C_medida\"]) / exp[\"C_medida\"]) * 100\n",
    "    \n",
    "    resultados.append({\n",
    "        \"T\": T,\n",
    "        \"L_calculada\": L_calculada,\n",
    "        \"C_calculada\": C_calculada,\n",
    "        \"error_L\": error_L,\n",
    "        \"error_C\": error_C\n",
    "    })\n",
    "\n",
    "# Imprimir resultados\n",
    "for i, res in enumerate(resultados):\n",
    "    print(f\"Experimento {i+1}:\")\n",
    "    print(f\"  Longitud de onda calculada (L): {res['L_calculada'].round(2)} m\")\n",
    "    print(f\"  Celeridad calculada (C): {res['C_calculada'].round(2)} m/s\")\n",
    "    print(f\"  Error en L: {res['error_L'].round(2)}%\")\n",
    "    print(f\"  Error en C: {res['error_C'].round(2)}%\")"
   ]
  }
 ],
 "metadata": {
  "kernelspec": {
   "display_name": "Python 3",
   "language": "python",
   "name": "python3"
  },
  "language_info": {
   "codemirror_mode": {
    "name": "ipython",
    "version": 3
   },
   "file_extension": ".py",
   "mimetype": "text/x-python",
   "name": "python",
   "nbconvert_exporter": "python",
   "pygments_lexer": "ipython3",
   "version": "3.11.5"
  }
 },
 "nbformat": 4,
 "nbformat_minor": 2
}
